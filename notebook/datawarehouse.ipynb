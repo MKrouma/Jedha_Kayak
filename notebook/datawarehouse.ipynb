{
 "cells": [
  {
   "cell_type": "markdown",
   "metadata": {},
   "source": [
    "# ETL & Datawarehouse\n",
    "**Purpose** : load, process and save data from a datalake (S3) to a datawarehouse (RDS)"
   ]
  },
  {
   "cell_type": "code",
   "execution_count": 46,
   "metadata": {},
   "outputs": [],
   "source": [
    "# import \n",
    "import os\n",
    "import boto3\n",
    "import pandas as pd\n",
    "from dotenv import load_dotenv\n",
    "from IPython.display import display\n",
    "from sqlalchemy import create_engine\n",
    "from sqlalchemy import Column, Integer, String, Float \n",
    "from sqlalchemy.ext.declarative import declarative_base"
   ]
  },
  {
   "cell_type": "code",
   "execution_count": 2,
   "metadata": {},
   "outputs": [],
   "source": [
    "# load dotenv variables\n",
    "load_dotenv()\n",
    "DBUSER = os.getenv('DBUSER')\n",
    "DBPASS = os.getenv('DBPASS')\n",
    "DBHOST = os.getenv('DBHOST')\n",
    "DBNAME = os.getenv('DBNAME')"
   ]
  },
  {
   "cell_type": "code",
   "execution_count": 3,
   "metadata": {},
   "outputs": [
    {
     "data": {
      "text/plain": [
       "'kayak_db'"
      ]
     },
     "execution_count": 3,
     "metadata": {},
     "output_type": "execute_result"
    }
   ],
   "source": [
    "DBNAME"
   ]
  },
  {
   "cell_type": "code",
   "execution_count": 4,
   "metadata": {},
   "outputs": [],
   "source": [
    "# engine : connected to our db\n",
    "connection_string = f\"postgresql+psycopg2://{DBUSER}:{DBPASS}@{DBHOST}/{DBNAME}\"\n",
    "engine = create_engine(connection_string, echo=True, future=True)\n"
   ]
  },
  {
   "cell_type": "code",
   "execution_count": 15,
   "metadata": {},
   "outputs": [],
   "source": [
    "# declarative base\n",
    "Base = declarative_base()\n",
    "\n",
    "# create city table\n",
    "# Let's define our table \n",
    "class City(Base):\n",
    "    __tablename__ = \"cities\"\n",
    "\n",
    "    uuid = Column(String, primary_key=True)\n",
    "    name = Column(String)\n",
    "    full_address = Column(String)\n",
    "    latitude = Column(Float)\n",
    "    longitude = Column(Float)\n",
    "\n",
    "    def __repr__(self):\n",
    "        return f\"<City(name={self.name}, fulladdress={self.full_address})>\""
   ]
  },
  {
   "cell_type": "code",
   "execution_count": 16,
   "metadata": {},
   "outputs": [],
   "source": [
    "# create_table\n",
    "INIT = False\n",
    "if INIT : \n",
    "    Base.metadata.create_all(engine)"
   ]
  },
  {
   "cell_type": "markdown",
   "metadata": {},
   "source": [
    "### Read Datalake files\n",
    "* weather_csv\n",
    "* hotels_booking_csv"
   ]
  },
  {
   "cell_type": "code",
   "execution_count": 35,
   "metadata": {},
   "outputs": [],
   "source": [
    "# s3 bucket\n",
    "# aws session\n",
    "load_dotenv()\n",
    "AWSS_ACCESS_KEY = os.getenv('AWS_ACCESS_KEY_ID')\n",
    "AWS_SECRET_ACCESS_KEY = os.getenv('AWS_SECRET_ACCESS_KEY')\n",
    "session = boto3.Session(aws_access_key_id=AWSS_ACCESS_KEY, aws_secret_access_key=AWS_SECRET_ACCESS_KEY)\n",
    "\n",
    "# s3 service\n",
    "s3 = session.resource(\"s3\")\n",
    "\n",
    "# bucket \n",
    "bucket_name = 'kayak-mahadou'\n",
    "kayak_bucket = s3.Bucket(bucket_name)"
   ]
  },
  {
   "cell_type": "code",
   "execution_count": 49,
   "metadata": {},
   "outputs": [
    {
     "data": {
      "text/html": [
       "<div>\n",
       "<style scoped>\n",
       "    .dataframe tbody tr th:only-of-type {\n",
       "        vertical-align: middle;\n",
       "    }\n",
       "\n",
       "    .dataframe tbody tr th {\n",
       "        vertical-align: top;\n",
       "    }\n",
       "\n",
       "    .dataframe thead th {\n",
       "        text-align: right;\n",
       "    }\n",
       "</style>\n",
       "<table border=\"1\" class=\"dataframe\">\n",
       "  <thead>\n",
       "    <tr style=\"text-align: right;\">\n",
       "      <th></th>\n",
       "      <th>uuid</th>\n",
       "      <th>cities</th>\n",
       "      <th>full_address</th>\n",
       "      <th>latitude</th>\n",
       "      <th>longitude</th>\n",
       "      <th>volume_rain_7days</th>\n",
       "    </tr>\n",
       "  </thead>\n",
       "  <tbody>\n",
       "    <tr>\n",
       "      <th>12</th>\n",
       "      <td>e72d90cf-9252-4c78-aba4-8d06fcbe849c</td>\n",
       "      <td>Besancon</td>\n",
       "      <td>Besançon, Doubs, Bourgogne-Franche-Comté, Fran...</td>\n",
       "      <td>47.238022</td>\n",
       "      <td>6.024362</td>\n",
       "      <td>5.443</td>\n",
       "    </tr>\n",
       "    <tr>\n",
       "      <th>10</th>\n",
       "      <td>dded3711-c772-43bd-9401-1fb13ff46ec0</td>\n",
       "      <td>Colmar</td>\n",
       "      <td>Colmar, Colmar-Ribeauvillé, Haut-Rhin, Grand E...</td>\n",
       "      <td>48.077752</td>\n",
       "      <td>7.357964</td>\n",
       "      <td>4.411</td>\n",
       "    </tr>\n",
       "  </tbody>\n",
       "</table>\n",
       "</div>"
      ],
      "text/plain": [
       "                                    uuid    cities  \\\n",
       "12  e72d90cf-9252-4c78-aba4-8d06fcbe849c  Besancon   \n",
       "10  dded3711-c772-43bd-9401-1fb13ff46ec0    Colmar   \n",
       "\n",
       "                                         full_address   latitude  longitude  \\\n",
       "12  Besançon, Doubs, Bourgogne-Franche-Comté, Fran...  47.238022   6.024362   \n",
       "10  Colmar, Colmar-Ribeauvillé, Haut-Rhin, Grand E...  48.077752   7.357964   \n",
       "\n",
       "    volume_rain_7days  \n",
       "12              5.443  \n",
       "10              4.411  "
      ]
     },
     "metadata": {},
     "output_type": "display_data"
    }
   ],
   "source": [
    "# read weather data from s3\n",
    "weather_key = \"weather_data.csv\"\n",
    "weather_csv_obj = s3.Object(bucket_name, weather_key)\n",
    "weather_csv = weather_csv_obj.get()['Body'].read().decode('utf-8') \n",
    "\n",
    "# dataframe\n",
    "weather_df = pd.read_csv(weather_csv, index_col=[0])\n",
    "display(weather_df.sample(2))"
   ]
  },
  {
   "cell_type": "code",
   "execution_count": 50,
   "metadata": {},
   "outputs": [
    {
     "data": {
      "text/html": [
       "<div>\n",
       "<style scoped>\n",
       "    .dataframe tbody tr th:only-of-type {\n",
       "        vertical-align: middle;\n",
       "    }\n",
       "\n",
       "    .dataframe tbody tr th {\n",
       "        vertical-align: top;\n",
       "    }\n",
       "\n",
       "    .dataframe thead th {\n",
       "        text-align: right;\n",
       "    }\n",
       "</style>\n",
       "<table border=\"1\" class=\"dataframe\">\n",
       "  <thead>\n",
       "    <tr style=\"text-align: right;\">\n",
       "      <th></th>\n",
       "      <th>city</th>\n",
       "      <th>name</th>\n",
       "      <th>url</th>\n",
       "      <th>image_url</th>\n",
       "      <th>score</th>\n",
       "      <th>description</th>\n",
       "    </tr>\n",
       "  </thead>\n",
       "  <tbody>\n",
       "    <tr>\n",
       "      <th>167</th>\n",
       "      <td>marseille</td>\n",
       "      <td>B&amp;B Hôtel Marseille Centre La Joliette</td>\n",
       "      <td>booking.com/hotel/fr/b-amp-b-ha-tel-marseille-...</td>\n",
       "      <td>https://cf.bstatic.com/xdata/images/hotel/squa...</td>\n",
       "      <td>7.0</td>\n",
       "      <td>Bénéficiant d'une connexion Wi-Fi gratuite dan...</td>\n",
       "    </tr>\n",
       "    <tr>\n",
       "      <th>207</th>\n",
       "      <td>bormes-les-mimosas</td>\n",
       "      <td>Superbe Duplex 35m2 vue mer avec piscine</td>\n",
       "      <td>booking.com/hotel/fr/voir-les-photos-presentat...</td>\n",
       "      <td>https://cf.bstatic.com/xdata/images/hotel/squa...</td>\n",
       "      <td>8.5</td>\n",
       "      <td>Offrant une vue sur la mer, le Superbe Duplex ...</td>\n",
       "    </tr>\n",
       "  </tbody>\n",
       "</table>\n",
       "</div>"
      ],
      "text/plain": [
       "                   city                                      name  \\\n",
       "167           marseille    B&B Hôtel Marseille Centre La Joliette   \n",
       "207  bormes-les-mimosas  Superbe Duplex 35m2 vue mer avec piscine   \n",
       "\n",
       "                                                   url  \\\n",
       "167  booking.com/hotel/fr/b-amp-b-ha-tel-marseille-...   \n",
       "207  booking.com/hotel/fr/voir-les-photos-presentat...   \n",
       "\n",
       "                                             image_url  score  \\\n",
       "167  https://cf.bstatic.com/xdata/images/hotel/squa...    7.0   \n",
       "207  https://cf.bstatic.com/xdata/images/hotel/squa...    8.5   \n",
       "\n",
       "                                           description  \n",
       "167  Bénéficiant d'une connexion Wi-Fi gratuite dan...  \n",
       "207  Offrant une vue sur la mer, le Superbe Duplex ...  "
      ]
     },
     "metadata": {},
     "output_type": "display_data"
    }
   ],
   "source": [
    "# read hotels data from s3\n",
    "hotels_key = \"hotels_booking.csv\"\n",
    "hotels_key_obj = s3.Object(bucket_name, hotels_key)\n",
    "hotels_csv = hotels_key_obj.get()['Body'].read().decode('utf-8') \n",
    "\n",
    "# dataframe\n",
    "hotels_df = pd.read_csv(hotels_csv, index_col=[0])\n",
    "display(hotels_df.sample(2))"
   ]
  },
  {
   "cell_type": "code",
   "execution_count": 17,
   "metadata": {},
   "outputs": [],
   "source": [
    "city = City(uuid=\"fhgf\", name=\"yoo\", full_address=\"jgd\", latitude=0, longitude=0)"
   ]
  },
  {
   "cell_type": "code",
   "execution_count": 18,
   "metadata": {},
   "outputs": [
    {
     "data": {
      "text/plain": [
       "<City(name=yoo, fulladdress=jgd)>"
      ]
     },
     "execution_count": 18,
     "metadata": {},
     "output_type": "execute_result"
    }
   ],
   "source": [
    "city"
   ]
  },
  {
   "cell_type": "code",
   "execution_count": null,
   "metadata": {},
   "outputs": [],
   "source": []
  }
 ],
 "metadata": {
  "interpreter": {
   "hash": "2b4cb09aecf8790cd274d191b703edeb02c60c746e8312459975c730244dc2f5"
  },
  "kernelspec": {
   "display_name": "Python 3.8.3 64-bit ('venv': venv)",
   "language": "python",
   "name": "python3"
  },
  "language_info": {
   "codemirror_mode": {
    "name": "ipython",
    "version": 3
   },
   "file_extension": ".py",
   "mimetype": "text/x-python",
   "name": "python",
   "nbconvert_exporter": "python",
   "pygments_lexer": "ipython3",
   "version": "3.8.3"
  },
  "orig_nbformat": 4
 },
 "nbformat": 4,
 "nbformat_minor": 2
}
