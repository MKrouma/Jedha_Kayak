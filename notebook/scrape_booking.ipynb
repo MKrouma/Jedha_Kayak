{
 "cells": [
  {
   "cell_type": "markdown",
   "metadata": {},
   "source": [
    "# Jedha Kayak project #block1\n",
    "Notebook for development \\\n",
    "Purpose : Scrap **hotels** from booking.com."
   ]
  },
  {
   "cell_type": "code",
   "execution_count": 3,
   "metadata": {},
   "outputs": [],
   "source": [
    "# import\n",
    "import os\n",
    "import json\n",
    "import time\n",
    "import pandas as pd\n",
    "from IPython.display import display"
   ]
  },
  {
   "cell_type": "code",
   "execution_count": 33,
   "metadata": {},
   "outputs": [
    {
     "data": {
      "text/plain": [
       "Index(['city', 'name', 'url', 'image_url', 'score', 'description'], dtype='object')"
      ]
     },
     "metadata": {},
     "output_type": "display_data"
    }
   ],
   "source": [
    "# read json from scrapy spider\n",
    "hotels_file = \"../data/temp/hotels-booking.json\"\n",
    "\n",
    "# file to json\n",
    "hotels_json = json.load(open(hotels_file))\n",
    "\n",
    "# json to df\n",
    "hotels_df = pd.json_normalize(hotels_json)\n",
    "\n",
    "display(hotels_df.columns)"
   ]
  },
  {
   "cell_type": "code",
   "execution_count": 34,
   "metadata": {},
   "outputs": [],
   "source": [
    "# clean some text\n",
    "def clean_text(text) :\n",
    "    return text.replace(\"\\n\", \"\")\n",
    "\n",
    "hotels_df[\"name\"] = hotels_df[\"name\"].apply(lambda x : clean_text(x))\n",
    "hotels_df[\"score\"] = hotels_df[\"score\"].apply(lambda x : clean_text(x))\n",
    "hotels_df[\"description\"] = hotels_df[\"description\"].apply(lambda x : clean_text(x))"
   ]
  },
  {
   "cell_type": "code",
   "execution_count": 38,
   "metadata": {},
   "outputs": [],
   "source": [
    "# astring score\n",
    "hotels_df[\"score\"] = hotels_df[\"score\"].astype(float)"
   ]
  },
  {
   "cell_type": "code",
   "execution_count": 39,
   "metadata": {},
   "outputs": [
    {
     "data": {
      "text/plain": [
       "city            object\n",
       "name            object\n",
       "url             object\n",
       "image_url       object\n",
       "score          float64\n",
       "description     object\n",
       "dtype: object"
      ]
     },
     "execution_count": 39,
     "metadata": {},
     "output_type": "execute_result"
    }
   ],
   "source": [
    "hotels_df.dtypes"
   ]
  },
  {
   "cell_type": "code",
   "execution_count": 40,
   "metadata": {},
   "outputs": [],
   "source": [
    "# save\n",
    "hotels_df.to_csv(\"../data/temp/hotels_booking.csv\")"
   ]
  }
 ],
 "metadata": {
  "interpreter": {
   "hash": "2b4cb09aecf8790cd274d191b703edeb02c60c746e8312459975c730244dc2f5"
  },
  "kernelspec": {
   "display_name": "Python 3.8.3 64-bit ('venv': venv)",
   "language": "python",
   "name": "python3"
  },
  "language_info": {
   "codemirror_mode": {
    "name": "ipython",
    "version": 3
   },
   "file_extension": ".py",
   "mimetype": "text/x-python",
   "name": "python",
   "nbconvert_exporter": "python",
   "pygments_lexer": "ipython3",
   "version": "3.8.3"
  },
  "orig_nbformat": 4
 },
 "nbformat": 4,
 "nbformat_minor": 2
}
