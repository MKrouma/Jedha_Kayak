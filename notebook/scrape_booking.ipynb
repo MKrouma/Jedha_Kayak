{
 "cells": [
  {
   "cell_type": "markdown",
   "metadata": {},
   "source": [
    "# Jedha Kayak project #block1\n",
    "Notebook for development \\\n",
    "Purpose : Scrap **hotels** from booking.com."
   ]
  },
  {
   "cell_type": "code",
   "execution_count": 18,
   "metadata": {},
   "outputs": [],
   "source": [
    "# import\n",
    "import os\n",
    "import time\n",
    "import requests\n",
    "import pandas as pd\n",
    "from bs4 import BeautifulSoup\n",
    "from IPython.display import display"
   ]
  },
  {
   "cell_type": "code",
   "execution_count": 19,
   "metadata": {},
   "outputs": [],
   "source": [
    "# booking hotel pages for France top 35 destinations\n",
    "dict_links = {\n",
    "    \"Bormes les Mimosas\": \"https://www.booking.com/searchresults.fr.html?label=gen173nr-1FCAEoggI46AdIM1gEaE2IAQGYAQ24AQfIAQzYAQHoAQH4AQuIAgGoAgO4Arm1mo0GwAIB0gIkZjE3NDZhZDItOTUyYS00NjljLWE5N2ItNzUxZjIxMTdjNDdi2AIG4AIB&sid=a8d69dac58d2b76c1d2bb743d5182840&aid=304142&sb_lp=1&src=index&error_url=https%3A%2F%2Fwww.booking.com%2Findex.fr.html%3Flabel%3Dgen173nr-1FCAEoggI46AdIM1gEaE2IAQGYAQ24AQfIAQzYAQHoAQH4AQuIAgGoAgO4Arm1mo0GwAIB0gIkZjE3NDZhZDItOTUyYS00NjljLWE5N2ItNzUxZjIxMTdjNDdi2AIG4AIB%3Bsid%3Da8d69dac58d2b76c1d2bb743d5182840%3Bsb_price_type%3Dtotal%26%3B&ss=Bormes-les-Mimosas%2C+Provence-Alpes-C%C3%B4te+d%27Azur%2C+France&is_ski_area=&checkin_year=&checkin_month=&checkout_year=&checkout_month=&group_adults=2&group_children=0&no_rooms=1&b_h4u_keep_filters=&from_sf=1&ss_raw=bormes&ac_position=0&ac_langcode=fr&ac_click_type=b&dest_id=-1413801&dest_type=city&place_id_lat=43.1507&place_id_lon=6.34193&search_pageview_id=2cde989cc7530174&search_selected=true&search_pageview_id=2cde989cc7530174&ac_suggestion_list_length=5&ac_suggestion_theme_list_length=0&nflt=ht_id%3D204\",\n",
    "    \"Uzes\": None,\n",
    "    \"Nimes\": None,\n",
    "    \"Gorges du Verdon\": None,\n",
    "    \"Avignon\": None\n",
    "}"
   ]
  },
  {
   "cell_type": "code",
   "execution_count": 39,
   "metadata": {},
   "outputs": [
    {
     "data": {
      "text/plain": [
       "'https://www.booking.com/searchresults.fr.html?label=gen173nr-1FCAEoggI46AdIM1gEaE2IAQGYAQ24AQfIAQzYAQHoAQH4AQuIAgGoAgO4Arm1mo0GwAIB0gIkZjE3NDZhZDItOTUyYS00NjljLWE5N2ItNzUxZjIxMTdjNDdi2AIG4AIB&sid=a8d69dac58d2b76c1d2bb743d5182840&aid=304142&sb_lp=1&src=index&error_url=https%3A%2F%2Fwww.booking.com%2Findex.fr.html%3Flabel%3Dgen173nr-1FCAEoggI46AdIM1gEaE2IAQGYAQ24AQfIAQzYAQHoAQH4AQuIAgGoAgO4Arm1mo0GwAIB0gIkZjE3NDZhZDItOTUyYS00NjljLWE5N2ItNzUxZjIxMTdjNDdi2AIG4AIB%3Bsid%3Da8d69dac58d2b76c1d2bb743d5182840%3Bsb_price_type%3Dtotal%26%3B&ss=Bormes-les-Mimosas%2C+Provence-Alpes-C%C3%B4te+d%27Azur%2C+France&is_ski_area=&checkin_year=&checkin_month=&checkout_year=&checkout_month=&group_adults=2&group_children=0&no_rooms=1&b_h4u_keep_filters=&from_sf=1&ss_raw=bormes&ac_position=0&ac_langcode=fr&ac_click_type=b&dest_id=-1413801&dest_type=city&place_id_lat=43.1507&place_id_lon=6.34193&search_pageview_id=2cde989cc7530174&search_selected=true&search_pageview_id=2cde989cc7530174&ac_suggestion_list_length=5&ac_suggestion_theme_list_length=0&nflt=ht_id%3D204'"
      ]
     },
     "execution_count": 39,
     "metadata": {},
     "output_type": "execute_result"
    }
   ],
   "source": [
    "# get city & link\n",
    "city = list(dict_links.keys())[0]\n",
    "city_booking_url = dict_links[city]\n",
    "\n",
    "city_booking_url\n",
    "\n"
   ]
  },
  {
   "cell_type": "code",
   "execution_count": 21,
   "metadata": {},
   "outputs": [],
   "source": [
    "# sleep 10s\n",
    "time.sleep(10)\n",
    "\n",
    "# requests\n",
    "r = requests.get(city_booking_url)\n",
    "\n",
    "# scrapping with beautifoul soup\n",
    "soup = BeautifulSoup(r.text, \"html.parser\")\n",
    "\n"
   ]
  },
  {
   "cell_type": "code",
   "execution_count": 44,
   "metadata": {},
   "outputs": [
    {
     "name": "stdout",
     "output_type": "stream",
     "text": [
      "<li class=\"bui-grid__column bui-grid__column-3\">\n",
      "<a class=\"bui-list-item bui-list-item--size-small\" data-lang=\"en-gb\" href=\"/city/fr/bormes-les-mimosas.en-gb.html\" hreflang=\"en-gb\">\n",
      "<div class=\"bui-inline-container bui-inline-container--align\">\n",
      "<div class=\"bui-inline-container__start\">\n",
      "<div class=\"bui-avatar bui-avatar--small bui-traveller-header__language\">\n",
      "<img alt=\"\" class=\"bui-avatar__image\" src=\"https://cf.bstatic.com/static/img/flags/new/48-squared/gb/daba79fdd4066d133e8bf59070fd6819b951c403.png\"/>\n",
      "</div>\n",
      "</div>\n",
      "<div class=\"bui-inline-container__main\" lang=\"en-gb\">\n",
      "English (UK)\n",
      "</div>\n",
      "</div>\n",
      "</a>\n",
      "</li>\n"
     ]
    }
   ],
   "source": [
    "# tbody\n",
    "tbody = soup.body\n",
    "print(tbody.li)"
   ]
  },
  {
   "cell_type": "code",
   "execution_count": 28,
   "metadata": {},
   "outputs": [
    {
     "data": {
      "text/plain": [
       "[]"
      ]
     },
     "execution_count": 28,
     "metadata": {},
     "output_type": "execute_result"
    }
   ],
   "source": [
    "# get number of pages\n",
    "# class-item\n",
    "class_css = \"e603a69fe1\"\n",
    "page_item = tbody.find_all(\"div\", class_css)\n",
    "page_item"
   ]
  },
  {
   "cell_type": "code",
   "execution_count": null,
   "metadata": {},
   "outputs": [],
   "source": []
  }
 ],
 "metadata": {
  "interpreter": {
   "hash": "2b4cb09aecf8790cd274d191b703edeb02c60c746e8312459975c730244dc2f5"
  },
  "kernelspec": {
   "display_name": "Python 3.8.3 64-bit ('venv': venv)",
   "language": "python",
   "name": "python3"
  },
  "language_info": {
   "codemirror_mode": {
    "name": "ipython",
    "version": 3
   },
   "file_extension": ".py",
   "mimetype": "text/x-python",
   "name": "python",
   "nbconvert_exporter": "python",
   "pygments_lexer": "ipython3",
   "version": "3.8.3"
  },
  "orig_nbformat": 4
 },
 "nbformat": 4,
 "nbformat_minor": 2
}
